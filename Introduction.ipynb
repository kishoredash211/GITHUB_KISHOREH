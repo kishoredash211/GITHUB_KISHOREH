{
 "cells": [
  {
   "cell_type": "markdown",
   "metadata": {},
   "source": [
    "# Coursera Capstone"
   ]
  },
  {
   "cell_type": "markdown",
   "metadata": {},
   "source": [
    "## Opening of a new Multiplex in Bangalore City, India"
   ]
  },
  {
   "cell_type": "markdown",
   "metadata": {},
   "source": [
    "# INTRODUCTION"
   ]
  },
  {
   "cell_type": "markdown",
   "metadata": {},
   "source": [
    "Bangalore is also known as the Silicon Valley of India, because of the number of IT Parks. \n",
    "Majority of population of bangalore consists of working young people. For them visiting places like Multiplex is a great way to relax and enjoy in the weekends.But it is very difficult for one to get a ticket in weekends, as the demand for the tickets is very high especially in weekends. Most of the Multiplexes are concentrated near the IT Parks i.e they are not equally distributed in the whole city. Opening Multiplexes in area's where there is very less Multiplex are available will eventually balance the demand. And building Multiplexes in those area's will be very profilable for Multiplex developers."
   ]
  },
  {
   "cell_type": "markdown",
   "metadata": {},
   "source": [
    "# BUSINESS PROBLEM"
   ]
  },
  {
   "cell_type": "markdown",
   "metadata": {},
   "source": [
    "The objective of this Capstone project is to analyse and select the best location in the city of Bangalore to open a Multiplex.\n",
    "Using Data Science Methodology and Machine Learning Algorithms like Clustering , this project aims to provide solution to answer the business question : In the city of Bangalore, India, if a property developer is looking to open a new shopping mall, where would you recommend that they open it."
   ]
  },
  {
   "cell_type": "markdown",
   "metadata": {},
   "source": [
    "# TARGET AUDIENCE"
   ]
  },
  {
   "cell_type": "markdown",
   "metadata": {},
   "source": [
    "This project is particularly useful to Multiplex and Property developers and investors looking to open or invest in new Multiplex in the city of Bangalore, India."
   ]
  },
  {
   "cell_type": "code",
   "execution_count": null,
   "metadata": {},
   "outputs": [],
   "source": []
  }
 ],
 "metadata": {
  "kernelspec": {
   "display_name": "Python 3",
   "language": "python",
   "name": "python3"
  },
  "language_info": {
   "codemirror_mode": {
    "name": "ipython",
    "version": 3
   },
   "file_extension": ".py",
   "mimetype": "text/x-python",
   "name": "python",
   "nbconvert_exporter": "python",
   "pygments_lexer": "ipython3",
   "version": "3.7.4"
  }
 },
 "nbformat": 4,
 "nbformat_minor": 2
}
